{
 "cells": [
  {
   "cell_type": "code",
   "execution_count": 1,
   "metadata": {},
   "outputs": [],
   "source": [
    "import numpy as np\n",
    "import pandas as pd"
   ]
  },
  {
   "cell_type": "code",
   "execution_count": 2,
   "metadata": {},
   "outputs": [
    {
     "name": "stdout",
     "output_type": "stream",
     "text": [
      "[1, 2, 'Fizz', 4, 5, 'Fizz', 7, 'Buzz', 'Fizz', 10, 11, 'Fizz', 13, 14, 'Fizz', 'Buzz', 17, 'Fizz', 19, 20, 'Fizz', 22, 23, 'fizzbuzz', 25, 26, 'Fizz', 28, 29, 'Fizz', 31, 'Buzz', 'Fizz', 34, 35, 'Fizz', 37, 38, 'Fizz', 'Buzz', 41, 'Fizz', 43, 44, 'Fizz', 46, 47, 'fizzbuzz', 49, 50, 'Fizz', 52, 53, 'Fizz', 55, 'Buzz', 'Fizz', 58, 59, 'Fizz', 61, 62, 'Fizz', 'Buzz', 65, 'Fizz', 67, 68, 'Fizz', 70, 71, 'fizzbuzz', 73, 74, 'Fizz', 76, 77, 'Fizz', 79, 'Buzz', 'Fizz', 82, 83, 'Fizz', 85, 86, 'Fizz', 'Buzz', 89, 'Fizz', 91, 92, 'Fizz', 94, 95, 'fizzbuzz', 97, 98, 'Fizz', 100]\n"
     ]
    }
   ],
   "source": [
    "#list of numbers\n",
    "numbers = range(1,101)\n",
    "#Variable for which multiple you'd like to use as fizz or buzz\n",
    "a = 3\n",
    "b = 8\n",
    "#create an empty list to store output\n",
    "game = []\n",
    "#for all numbers in number range entered above, check if the value is evenly divided by both a and b for fizzbuzz, \n",
    "#Check if a divides evenly into the number to print fizz \n",
    "#check if b divides evenly into number to print buzz\n",
    "#print the original number if none of above are true\n",
    "for i in numbers:\n",
    "    if i % a == 0 and i % b == 0:\n",
    "        game.append('fizzbuzz')\n",
    "    elif i % a == 0:\n",
    "        game.append('Fizz')\n",
    "    elif i % b == 0:\n",
    "        game.append('Buzz')\n",
    "    else:\n",
    "        game.append(i)\n",
    "print(game)\n"
   ]
  },
  {
   "cell_type": "code",
   "execution_count": 83,
   "metadata": {},
   "outputs": [],
   "source": []
  },
  {
   "cell_type": "code",
   "execution_count": null,
   "metadata": {},
   "outputs": [],
   "source": []
  },
  {
   "cell_type": "code",
   "execution_count": 53,
   "metadata": {},
   "outputs": [],
   "source": []
  },
  {
   "cell_type": "code",
   "execution_count": null,
   "metadata": {},
   "outputs": [],
   "source": []
  },
  {
   "cell_type": "code",
   "execution_count": null,
   "metadata": {},
   "outputs": [],
   "source": []
  }
 ],
 "metadata": {
  "kernelspec": {
   "display_name": "Python 3 (ipykernel)",
   "language": "python",
   "name": "python3"
  },
  "language_info": {
   "codemirror_mode": {
    "name": "ipython",
    "version": 3
   },
   "file_extension": ".py",
   "mimetype": "text/x-python",
   "name": "python",
   "nbconvert_exporter": "python",
   "pygments_lexer": "ipython3",
   "version": "3.11.5"
  }
 },
 "nbformat": 4,
 "nbformat_minor": 2
}
